{
 "cells": [
  {
   "cell_type": "markdown",
   "metadata": {},
   "source": [
    "## **Function Calling LLMs - Team Project**"
   ]
  },
  {
   "cell_type": "code",
   "execution_count": 8,
   "metadata": {},
   "outputs": [],
   "source": [
    "import openai\n",
    "import json\n",
    "import os\n",
    "\n",
    "from dotenv import load_dotenv\n",
    "\n",
    "\n",
    "load_dotenv()\n",
    "openai.api_key = os.environ.get(\"API_KEY\")"
   ]
  },
  {
   "cell_type": "markdown",
   "metadata": {},
   "source": [
    "## Data"
   ]
  },
  {
   "cell_type": "code",
   "execution_count": null,
   "metadata": {},
   "outputs": [],
   "source": []
  },
  {
   "cell_type": "markdown",
   "metadata": {},
   "source": [
    "## Functions"
   ]
  },
  {
   "cell_type": "code",
   "execution_count": 68,
   "metadata": {},
   "outputs": [
    {
     "name": "stdout",
     "output_type": "stream",
     "text": [
      "{'wrapper': <function to_json.<locals>.wrapper at 0x00000266267F99E0>}\n"
     ]
    }
   ],
   "source": [
    "from registry import Registry\n",
    "from pprint import pprint\n",
    "\n",
    "register = Registry()\n",
    "\n",
    "def to_json(fcn):\n",
    "    def wrapper(*args, **kwargs):\n",
    "        result = fcn(*args, **kwargs)\n",
    "        return json.dumps(result)\n",
    "    return wrapper\n",
    "\n",
    "@register.register\n",
    "@to_json\n",
    "def get_current_weather(location, unit=\"fahrenheit\"):\n",
    "    \"\"\"Get the current weather in a given location\"\"\"\n",
    "    weather_info = {\n",
    "        \"location\": location,\n",
    "        \"temperature\": \"72\",\n",
    "        \"unit\": unit,\n",
    "        \"forecast\": [\"sunny\", \"windy\"],\n",
    "    }\n",
    "    return weather_info\n",
    "\n",
    "pprint(register.registered_functions)"
   ]
  },
  {
   "cell_type": "code",
   "execution_count": 10,
   "metadata": {},
   "outputs": [],
   "source": [
    "FUNCTIONS = [\n",
    "    {\n",
    "        \"name\": \"get_current_weather\",\n",
    "        \"description\": \"Get the current weather in a given location\",\n",
    "        \"parameters\": {\n",
    "            \"type\": \"object\",\n",
    "            \"properties\": {\n",
    "                \"location\": {\n",
    "                    \"type\": \"string\",\n",
    "                    \"description\": \"The city and state, e.g. San Francisco, CA\",\n",
    "                },\n",
    "                \"unit\": {\n",
    "                    \"type\": \"string\", \n",
    "                    \"enum\": [\"celsius\", \"fahrenheit\"]\n",
    "                },\n",
    "            },\n",
    "            \"required\": [\"location\"],\n",
    "        },\n",
    "    }\n",
    "]"
   ]
  },
  {
   "cell_type": "markdown",
   "metadata": {},
   "source": [
    "## LLM"
   ]
  },
  {
   "cell_type": "code",
   "execution_count": 65,
   "metadata": {},
   "outputs": [],
   "source": [
    "from enum import Enum\n",
    "from typing import Union\n",
    "\n",
    "class Role(Enum):\n",
    "    ASSISTANT = \"assistant\"\n",
    "    FUNCTION = \"function\"\n",
    "    SYSTEM = \"system\"\n",
    "    USER = \"user\"\n",
    "\n",
    "class Model_Version(Enum):\n",
    "    GPT3 = \"gpt-3.5-turbo-0613\"\n",
    "    GPT4 = \"gpt-4-0613\"\n",
    "\n",
    "CONTEXT = {\"role\": Role.SYSTEM.value, \"content\": \"Answer in one very short sentence.\"}\n",
    "\n",
    "MAX_ITER = 3\n",
    "\n",
    "MODEL_VERSION = Model_Version.GPT3.value\n"
   ]
  },
  {
   "cell_type": "code",
   "execution_count": 66,
   "metadata": {},
   "outputs": [],
   "source": [
    "def _add_message_to_context(role:Role, content:str, messages:list, function_call:dict=None) -> None:\n",
    "    if role == Role.ASSISTANT:\n",
    "        d = {\"role\": Role.ASSISTANT.value, \"content\": content}\n",
    "        if function_call is not None: d |= {\"function_call\": function}\n",
    "        messages.append(d)\n",
    "\n",
    "    if role == Role.USER:\n",
    "        messages.append({\"role\": Role.USER.value, \"content\": content})\n",
    "    \n",
    "    if role == Role.FUNCTION:\n",
    "        messages.append({\"role\": Role.FUNCTION.value, \"name\": function_call[\"name\"], \"content\": content})\n",
    "        \n",
    "\n",
    "def send_message(role:Union[Role.USER, Role.FUNCTION], content:str, messages:list, function_call:dict=None) -> dict:\n",
    "    \n",
    "    _add_message_to_context(role, content, messages, function_call)\n",
    "    \n",
    "    response = openai.ChatCompletion.create(\n",
    "        model=MODEL_VERSION,\n",
    "        messages=messages,\n",
    "        function_call=\"auto\",\n",
    "        functions=FUNCTIONS,\n",
    "    )\n",
    "    \n",
    "    response = response[\"choices\"][0][\"message\"]\n",
    "    response_message = response[\"content\"]\n",
    "    \n",
    "    _add_message_to_context(Role.ASSISTANT, response_message, messages, function_call)\n",
    "    \n",
    "    return response\n",
    "\n",
    "\n",
    "def handle_function(function:dict) -> json:\n",
    "    function_name, function_args = function[\"name\"], json.loads(function[\"arguments\"])\n",
    "    \n",
    "    if function_name in register.registered_functions:\n",
    "        function_to_call = register[function_name]\n",
    "        result = function_to_call(**function_args) # return json string\n",
    "        return result\n",
    "\n",
    "def run(user_question:str, verbose=False):    \n",
    "    messages = [CONTEXT]\n",
    "    \n",
    "    # Step 1: send the conversation (context) and available functions to GPT\n",
    "    response = send_message(Role.USER, user_question, messages)\n",
    "    \n",
    "    current_iteration = 1\n",
    "    while (current_iteration <= MAX_ITER):\n",
    "        print(response)\n",
    "    \n",
    "        # Step 2: check if GPT wanted to call a function \n",
    "        function_call = response.get(\"function_call\")\n",
    "        \n",
    "        if not function_call:\n",
    "            break\n",
    "        \n",
    "        print(function_call)\n",
    "    \n",
    "        if verbose: print(\"function-call detected...\\n\")\n",
    "        # Step 3: call the function\n",
    "        function_result = handle_function(function_call)\n",
    "        \n",
    "        # Step 4: send the info on the function call and function response to GPT\n",
    "        if verbose: print(function_result + \"\\n\")\n",
    "        response = send_message(Role.FUNCTION, function_result, messages, function_call)\n",
    "        \n",
    "    if verbose:\n",
    "        print(messages)\n",
    "    \n",
    "    response_message = response[\"message\"][\"content\"]\n",
    "    return response_message"
   ]
  },
  {
   "cell_type": "code",
   "execution_count": 67,
   "metadata": {},
   "outputs": [
    {
     "name": "stdout",
     "output_type": "stream",
     "text": [
      "{\n",
      "  \"role\": \"assistant\",\n",
      "  \"content\": null,\n",
      "  \"function_call\": {\n",
      "    \"name\": \"get_current_weather\",\n",
      "    \"arguments\": \"{\\n  \\\"location\\\": \\\"San Francisco, CA\\\"\\n}\"\n",
      "  }\n",
      "}\n",
      "{\n",
      "  \"name\": \"get_current_weather\",\n",
      "  \"arguments\": \"{\\n  \\\"location\\\": \\\"San Francisco, CA\\\"\\n}\"\n",
      "}\n",
      "function-call detected...\n",
      "\n"
     ]
    },
    {
     "ename": "TypeError",
     "evalue": "'Registry' object is not subscriptable",
     "output_type": "error",
     "traceback": [
      "\u001b[1;31m---------------------------------------------------------------------------\u001b[0m",
      "\u001b[1;31mTypeError\u001b[0m                                 Traceback (most recent call last)",
      "\u001b[1;32md:\\Program Files\\Programming\\Function-Calling-LLMs\\main.ipynb Cell 11\u001b[0m line \u001b[0;36m1\n\u001b[1;32m----> <a href='vscode-notebook-cell:/d%3A/Program%20Files/Programming/Function-Calling-LLMs/main.ipynb#X14sZmlsZQ%3D%3D?line=0'>1</a>\u001b[0m response \u001b[39m=\u001b[39m run(\u001b[39m\"\u001b[39;49m\u001b[39mWhat is the current weather in San Francisco, CA?\u001b[39;49m\u001b[39m\"\u001b[39;49m, verbose\u001b[39m=\u001b[39;49m\u001b[39mTrue\u001b[39;49;00m)\n\u001b[0;32m      <a href='vscode-notebook-cell:/d%3A/Program%20Files/Programming/Function-Calling-LLMs/main.ipynb#X14sZmlsZQ%3D%3D?line=1'>2</a>\u001b[0m \u001b[39mprint\u001b[39m(response)\n",
      "\u001b[1;32md:\\Program Files\\Programming\\Function-Calling-LLMs\\main.ipynb Cell 11\u001b[0m line \u001b[0;36m6\n\u001b[0;32m     <a href='vscode-notebook-cell:/d%3A/Program%20Files/Programming/Function-Calling-LLMs/main.ipynb#X14sZmlsZQ%3D%3D?line=58'>59</a>\u001b[0m \u001b[39mif\u001b[39;00m verbose: \u001b[39mprint\u001b[39m(\u001b[39m\"\u001b[39m\u001b[39mfunction-call detected...\u001b[39m\u001b[39m\\n\u001b[39;00m\u001b[39m\"\u001b[39m)\n\u001b[0;32m     <a href='vscode-notebook-cell:/d%3A/Program%20Files/Programming/Function-Calling-LLMs/main.ipynb#X14sZmlsZQ%3D%3D?line=59'>60</a>\u001b[0m \u001b[39m# Step 3: call the function\u001b[39;00m\n\u001b[1;32m---> <a href='vscode-notebook-cell:/d%3A/Program%20Files/Programming/Function-Calling-LLMs/main.ipynb#X14sZmlsZQ%3D%3D?line=60'>61</a>\u001b[0m function_result \u001b[39m=\u001b[39m handle_function(function_call)\n\u001b[0;32m     <a href='vscode-notebook-cell:/d%3A/Program%20Files/Programming/Function-Calling-LLMs/main.ipynb#X14sZmlsZQ%3D%3D?line=62'>63</a>\u001b[0m \u001b[39m# Step 4: send the info on the function call and function response to GPT\u001b[39;00m\n\u001b[0;32m     <a href='vscode-notebook-cell:/d%3A/Program%20Files/Programming/Function-Calling-LLMs/main.ipynb#X14sZmlsZQ%3D%3D?line=63'>64</a>\u001b[0m \u001b[39mif\u001b[39;00m verbose: \u001b[39mprint\u001b[39m(function_result \u001b[39m+\u001b[39m \u001b[39m\"\u001b[39m\u001b[39m\\n\u001b[39;00m\u001b[39m\"\u001b[39m)\n",
      "\u001b[1;32md:\\Program Files\\Programming\\Function-Calling-LLMs\\main.ipynb Cell 11\u001b[0m line \u001b[0;36m3\n\u001b[0;32m     <a href='vscode-notebook-cell:/d%3A/Program%20Files/Programming/Function-Calling-LLMs/main.ipynb#X14sZmlsZQ%3D%3D?line=33'>34</a>\u001b[0m function_name, function_args \u001b[39m=\u001b[39m function[\u001b[39m\"\u001b[39m\u001b[39mname\u001b[39m\u001b[39m\"\u001b[39m], json\u001b[39m.\u001b[39mloads(function[\u001b[39m\"\u001b[39m\u001b[39marguments\u001b[39m\u001b[39m\"\u001b[39m])\n\u001b[0;32m     <a href='vscode-notebook-cell:/d%3A/Program%20Files/Programming/Function-Calling-LLMs/main.ipynb#X14sZmlsZQ%3D%3D?line=35'>36</a>\u001b[0m \u001b[39mif\u001b[39;00m function_name \u001b[39min\u001b[39;00m register\u001b[39m.\u001b[39mregistered_functions:\n\u001b[1;32m---> <a href='vscode-notebook-cell:/d%3A/Program%20Files/Programming/Function-Calling-LLMs/main.ipynb#X14sZmlsZQ%3D%3D?line=36'>37</a>\u001b[0m     function_to_call \u001b[39m=\u001b[39m register[function_name]\n\u001b[0;32m     <a href='vscode-notebook-cell:/d%3A/Program%20Files/Programming/Function-Calling-LLMs/main.ipynb#X14sZmlsZQ%3D%3D?line=37'>38</a>\u001b[0m     result \u001b[39m=\u001b[39m function_to_call(\u001b[39m*\u001b[39m\u001b[39m*\u001b[39mfunction_args) \u001b[39m# return json string\u001b[39;00m\n\u001b[0;32m     <a href='vscode-notebook-cell:/d%3A/Program%20Files/Programming/Function-Calling-LLMs/main.ipynb#X14sZmlsZQ%3D%3D?line=38'>39</a>\u001b[0m     \u001b[39mreturn\u001b[39;00m result\n",
      "\u001b[1;31mTypeError\u001b[0m: 'Registry' object is not subscriptable"
     ]
    }
   ],
   "source": [
    "response = run(\"What is the current weather in San Francisco, CA?\", verbose=True)\n",
    "print(response)"
   ]
  },
  {
   "cell_type": "markdown",
   "metadata": {},
   "source": [
    "## Benchmark"
   ]
  },
  {
   "cell_type": "code",
   "execution_count": null,
   "metadata": {},
   "outputs": [],
   "source": []
  }
 ],
 "metadata": {
  "kernelspec": {
   "display_name": ".venv",
   "language": "python",
   "name": "python3"
  },
  "language_info": {
   "codemirror_mode": {
    "name": "ipython",
    "version": 3
   },
   "file_extension": ".py",
   "mimetype": "text/x-python",
   "name": "python",
   "nbconvert_exporter": "python",
   "pygments_lexer": "ipython3",
   "version": "3.11.3"
  }
 },
 "nbformat": 4,
 "nbformat_minor": 2
}
