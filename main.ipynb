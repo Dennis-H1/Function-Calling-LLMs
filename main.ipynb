{
 "cells": [
  {
   "cell_type": "markdown",
   "metadata": {},
   "source": [
    "## **Function Calling LLMs - Team Project**"
   ]
  },
  {
   "cell_type": "code",
   "execution_count": 30,
   "metadata": {},
   "outputs": [],
   "source": [
    "import openai\n",
    "import json\n",
    "import os\n",
    "\n",
    "from dotenv import load_dotenv\n",
    "\n",
    "\n",
    "load_dotenv()\n",
    "openai.api_key = os.environ.get(\"API_KEY\")"
   ]
  },
  {
   "cell_type": "markdown",
   "metadata": {},
   "source": [
    "## Data"
   ]
  },
  {
   "cell_type": "code",
   "execution_count": null,
   "metadata": {},
   "outputs": [],
   "source": []
  },
  {
   "cell_type": "markdown",
   "metadata": {},
   "source": [
    "## Functions"
   ]
  },
  {
   "cell_type": "code",
   "execution_count": 40,
   "metadata": {},
   "outputs": [
    {
     "name": "stdout",
     "output_type": "stream",
     "text": [
      "{'get_current_weather': <function get_current_weather at 0x000002202E5AA3E0>}\n"
     ]
    }
   ],
   "source": [
    "from functools import wraps\n",
    "from pprint import pprint\n",
    "from registry import Registry\n",
    "\n",
    "\n",
    "register = Registry()\n",
    "\n",
    "def to_json(fcn):\n",
    "    @wraps(fcn)\n",
    "    def wrapper(*args, **kwargs):\n",
    "        result = fcn(*args, **kwargs)\n",
    "        return json.dumps(result)\n",
    "    return wrapper\n",
    "\n",
    "@register.register\n",
    "@to_json\n",
    "def get_current_weather(location, unit=\"fahrenheit\"):\n",
    "    \"\"\"Get the current weather in a given location\"\"\"\n",
    "    weather_info = {\n",
    "        \"location\": location,\n",
    "        \"temperature\": 72,\n",
    "        \"unit\": unit,\n",
    "        \"forecast\": [\"sunny\", \"windy\"],\n",
    "    }\n",
    "    return weather_info\n",
    "\n",
    "pprint(register.registered_functions)"
   ]
  },
  {
   "cell_type": "code",
   "execution_count": 26,
   "metadata": {},
   "outputs": [],
   "source": [
    "FUNCTIONS = [\n",
    "    {\n",
    "        \"name\": \"get_current_weather\",\n",
    "        \"description\": \"Get the current weather in a given location\",\n",
    "        \"parameters\": {\n",
    "            \"type\": \"object\",\n",
    "            \"properties\": {\n",
    "                \"location\": {\n",
    "                    \"type\": \"string\",\n",
    "                    \"description\": \"The city and state, e.g. San Francisco, CA\",\n",
    "                },\n",
    "                \"unit\": {\n",
    "                    \"type\": \"string\", \n",
    "                    \"enum\": [\"celsius\", \"fahrenheit\"]\n",
    "                },\n",
    "            },\n",
    "            \"required\": [\"location\"],\n",
    "        },\n",
    "    }\n",
    "]"
   ]
  },
  {
   "cell_type": "markdown",
   "metadata": {},
   "source": [
    "## LLM"
   ]
  },
  {
   "cell_type": "code",
   "execution_count": 27,
   "metadata": {},
   "outputs": [],
   "source": [
    "from enum import Enum\n",
    "from typing import Union\n",
    "\n",
    "class Role(Enum):\n",
    "    ASSISTANT = \"assistant\"\n",
    "    FUNCTION = \"function\"\n",
    "    SYSTEM = \"system\"\n",
    "    USER = \"user\"\n",
    "\n",
    "class Model_Version(Enum):\n",
    "    GPT3 = \"gpt-3.5-turbo-0613\"\n",
    "    GPT4 = \"gpt-4-0613\"\n",
    "\n",
    "CONTEXT = {\"role\": Role.SYSTEM.value, \"content\": \"Answer in one very short sentence.\"}\n",
    "\n",
    "MAX_ITER = 3\n",
    "\n",
    "MODEL_VERSION = Model_Version.GPT3.value\n"
   ]
  },
  {
   "cell_type": "code",
   "execution_count": 64,
   "metadata": {},
   "outputs": [],
   "source": [
    "outer = []\n",
    "\n",
    "\n",
    "def _add_message_to_context(role:Role, content:str, messages:list, function_call:dict=None) -> None:\n",
    "    if role == Role.ASSISTANT:\n",
    "        d = {\"role\": Role.ASSISTANT.value, \"content\": content}\n",
    "        if function_call is not None: d |= {\"function_call\": function_call}\n",
    "        messages.append(d)\n",
    "\n",
    "    if role == Role.USER:\n",
    "        messages.append({\"role\": Role.USER.value, \"content\": content})\n",
    "    \n",
    "    if role == Role.FUNCTION:\n",
    "        messages.append({\"role\": Role.FUNCTION.value, \"name\": function_call[\"name\"], \"content\": content})\n",
    "        \n",
    "\n",
    "def send_message(role:Union[Role.USER, Role.FUNCTION], content:str, messages:list, function_call:dict=None) -> dict:\n",
    "    \n",
    "    _add_message_to_context(role, content, messages, function_call)\n",
    "    \n",
    "    response = openai.ChatCompletion.create(\n",
    "        model=MODEL_VERSION,\n",
    "        messages=messages,\n",
    "        function_call=\"auto\",\n",
    "        functions=FUNCTIONS,\n",
    "    )\n",
    "    \n",
    "    response = response[\"choices\"][0][\"message\"]\n",
    "    response_message = response[\"content\"]\n",
    "    \n",
    "    is_function_call = response.get(\"function_call\")\n",
    "    if is_function_call:\n",
    "        \n",
    "        outer.append(is_function_call)\n",
    "        \n",
    "        _add_message_to_context(Role.ASSISTANT, response_message, messages, is_function_call.to_dict())\n",
    "    \n",
    "    return response\n",
    "\n",
    "\n",
    "def handle_function(function:dict) -> json:\n",
    "    function_name, function_args = function[\"name\"], json.loads(function[\"arguments\"])\n",
    "    \n",
    "    if function_name in register.registered_functions:\n",
    "        function_to_call = register[function_name]\n",
    "        result = function_to_call(**function_args)\n",
    "        return result\n",
    "\n",
    "def run(user_question:str, verbose=False):    \n",
    "    messages = [CONTEXT]\n",
    "    \n",
    "    # Step 1: send the conversation (context) and available functions to GPT\n",
    "    response = send_message(Role.USER, user_question, messages)\n",
    "\n",
    "    print(response)\n",
    "    \n",
    "    print(messages)\n",
    "    \n",
    "    current_iteration = 1\n",
    "    while (current_iteration <= MAX_ITER):\n",
    "    \n",
    "        # Step 2: check if GPT wanted to call a function \n",
    "        function_call = response.get(\"function_call\")\n",
    "        \n",
    "        if not function_call:\n",
    "            break\n",
    "        \n",
    "        print(function_call)\n",
    "    \n",
    "        if verbose: print(\"function-call detected...\\n\")\n",
    "        # Step 3: call the function\n",
    "        function_result = handle_function(function_call)\n",
    "        \n",
    "        print(function_result)\n",
    "        \n",
    "        # Step 4: send the info on the function call and function response to GPT\n",
    "        response = send_message(Role.FUNCTION, function_result, messages, function_call)\n",
    "        \n",
    "        print(response)\n",
    "        \n",
    "    if verbose:\n",
    "        print(messages)\n",
    "    \n",
    "    print(response)\n",
    "    \n",
    "    return response[\"content\"]"
   ]
  },
  {
   "cell_type": "code",
   "execution_count": 65,
   "metadata": {},
   "outputs": [
    {
     "name": "stdout",
     "output_type": "stream",
     "text": [
      "{\n",
      "  \"role\": \"assistant\",\n",
      "  \"content\": null,\n",
      "  \"function_call\": {\n",
      "    \"name\": \"get_current_weather\",\n",
      "    \"arguments\": \"{\\n  \\\"location\\\": \\\"San Francisco, CA\\\"\\n}\"\n",
      "  }\n",
      "}\n",
      "[{'role': 'system', 'content': 'Answer in one very short sentence.'}, {'role': 'user', 'content': 'What is the current weather in San Francisco, CA?'}, {'role': 'assistant', 'content': None, 'function_call': {'name': 'get_current_weather', 'arguments': '{\\n  \"location\": \"San Francisco, CA\"\\n}'}}]\n",
      "{\n",
      "  \"name\": \"get_current_weather\",\n",
      "  \"arguments\": \"{\\n  \\\"location\\\": \\\"San Francisco, CA\\\"\\n}\"\n",
      "}\n",
      "function-call detected...\n",
      "\n",
      "{\"location\": \"San Francisco, CA\", \"temperature\": 72, \"unit\": \"fahrenheit\", \"forecast\": [\"sunny\", \"windy\"]}\n",
      "{\n",
      "  \"role\": \"assistant\",\n",
      "  \"content\": \"The current weather in San Francisco, CA is sunny and windy with a temperature of 72\\u00b0F.\"\n",
      "}\n",
      "[{'role': 'system', 'content': 'Answer in one very short sentence.'}, {'role': 'user', 'content': 'What is the current weather in San Francisco, CA?'}, {'role': 'assistant', 'content': None, 'function_call': {'name': 'get_current_weather', 'arguments': '{\\n  \"location\": \"San Francisco, CA\"\\n}'}}, {'role': 'function', 'name': 'get_current_weather', 'content': '{\"location\": \"San Francisco, CA\", \"temperature\": 72, \"unit\": \"fahrenheit\", \"forecast\": [\"sunny\", \"windy\"]}'}]\n",
      "{\n",
      "  \"role\": \"assistant\",\n",
      "  \"content\": \"The current weather in San Francisco, CA is sunny and windy with a temperature of 72\\u00b0F.\"\n",
      "}\n"
     ]
    },
    {
     "ename": "NameError",
     "evalue": "name 'response_message' is not defined",
     "output_type": "error",
     "traceback": [
      "\u001b[1;31m---------------------------------------------------------------------------\u001b[0m",
      "\u001b[1;31mNameError\u001b[0m                                 Traceback (most recent call last)",
      "\u001b[1;32mc:\\Users\\denni\\OneDrive\\Desktop\\Mannheim\\Function-Calling-LLMs\\main.ipynb Cell 11\u001b[0m line \u001b[0;36m1\n\u001b[1;32m----> <a href='vscode-notebook-cell:/c%3A/Users/denni/OneDrive/Desktop/Mannheim/Function-Calling-LLMs/main.ipynb#X13sZmlsZQ%3D%3D?line=0'>1</a>\u001b[0m response \u001b[39m=\u001b[39m run(\u001b[39m\"\u001b[39;49m\u001b[39mWhat is the current weather in San Francisco, CA?\u001b[39;49m\u001b[39m\"\u001b[39;49m, verbose\u001b[39m=\u001b[39;49m\u001b[39mTrue\u001b[39;49;00m)\n\u001b[0;32m      <a href='vscode-notebook-cell:/c%3A/Users/denni/OneDrive/Desktop/Mannheim/Function-Calling-LLMs/main.ipynb#X13sZmlsZQ%3D%3D?line=1'>2</a>\u001b[0m \u001b[39mprint\u001b[39m(response)\n",
      "\u001b[1;32mc:\\Users\\denni\\OneDrive\\Desktop\\Mannheim\\Function-Calling-LLMs\\main.ipynb Cell 11\u001b[0m line \u001b[0;36m8\n\u001b[0;32m     <a href='vscode-notebook-cell:/c%3A/Users/denni/OneDrive/Desktop/Mannheim/Function-Calling-LLMs/main.ipynb#X13sZmlsZQ%3D%3D?line=83'>84</a>\u001b[0m \u001b[39mprint\u001b[39m(response)\n\u001b[0;32m     <a href='vscode-notebook-cell:/c%3A/Users/denni/OneDrive/Desktop/Mannheim/Function-Calling-LLMs/main.ipynb#X13sZmlsZQ%3D%3D?line=85'>86</a>\u001b[0m \u001b[39m# response_message = response[\"choices\"][0][\"message\"][\"content\"]\u001b[39;00m\n\u001b[1;32m---> <a href='vscode-notebook-cell:/c%3A/Users/denni/OneDrive/Desktop/Mannheim/Function-Calling-LLMs/main.ipynb#X13sZmlsZQ%3D%3D?line=86'>87</a>\u001b[0m \u001b[39mreturn\u001b[39;00m response_message\n",
      "\u001b[1;31mNameError\u001b[0m: name 'response_message' is not defined"
     ]
    }
   ],
   "source": [
    "response = run(\"What is the current weather in San Francisco, CA?\", verbose=True)\n",
    "print(response)"
   ]
  },
  {
   "cell_type": "markdown",
   "metadata": {},
   "source": [
    "## Benchmark"
   ]
  },
  {
   "cell_type": "code",
   "execution_count": 58,
   "metadata": {},
   "outputs": [
    {
     "data": {
      "text/plain": [
       "{'name': 'get_current_weather',\n",
       " 'arguments': '{\\n  \"location\": \"San Francisco, CA\"\\n}'}"
      ]
     },
     "execution_count": 58,
     "metadata": {},
     "output_type": "execute_result"
    }
   ],
   "source": [
    "obj = outer[0]"
   ]
  }
 ],
 "metadata": {
  "kernelspec": {
   "display_name": ".venv",
   "language": "python",
   "name": "python3"
  },
  "language_info": {
   "codemirror_mode": {
    "name": "ipython",
    "version": 3
   },
   "file_extension": ".py",
   "mimetype": "text/x-python",
   "name": "python",
   "nbconvert_exporter": "python",
   "pygments_lexer": "ipython3",
   "version": "3.11.4"
  }
 },
 "nbformat": 4,
 "nbformat_minor": 2
}
