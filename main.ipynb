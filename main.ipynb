{
 "cells": [
  {
   "cell_type": "markdown",
   "metadata": {},
   "source": [
    "## **Function Calling LLMs - Team Project**"
   ]
  },
  {
   "cell_type": "code",
   "execution_count": 30,
   "metadata": {},
   "outputs": [],
   "source": [
    "import openai\n",
    "import json\n",
    "import os\n",
    "\n",
    "from dotenv import load_dotenv\n",
    "\n",
    "\n",
    "load_dotenv()\n",
    "openai.api_key = os.environ.get(\"API_KEY\")"
   ]
  },
  {
   "cell_type": "markdown",
   "metadata": {},
   "source": [
    "## Data"
   ]
  },
  {
   "cell_type": "code",
   "execution_count": null,
   "metadata": {},
   "outputs": [],
   "source": [
    "# prepare datasets here \n",
    "# data should be used with functions"
   ]
  },
  {
   "cell_type": "markdown",
   "metadata": {},
   "source": [
    "## Functions"
   ]
  },
  {
   "cell_type": "code",
   "execution_count": 74,
   "metadata": {},
   "outputs": [],
   "source": [
    "# Helper Functions\n",
    "\n",
    "from functools import wraps\n",
    "from pprint import pprint\n",
    "from registry import Registry\n",
    "\n",
    "def to_json(fcn):\n",
    "    @wraps(fcn)\n",
    "    def wrapper(*args, **kwargs):\n",
    "        result = fcn(*args, **kwargs)\n",
    "        return json.dumps(result)\n",
    "    return wrapper\n",
    "\n",
    "register = Registry()"
   ]
  },
  {
   "cell_type": "markdown",
   "metadata": {},
   "source": [
    "#### API"
   ]
  },
  {
   "cell_type": "code",
   "execution_count": 75,
   "metadata": {},
   "outputs": [
    {
     "name": "stdout",
     "output_type": "stream",
     "text": [
      "{'get_current_weather': <function get_current_weather at 0x000002202E5AB2E0>}\n"
     ]
    }
   ],
   "source": [
    "@register.register\n",
    "@to_json\n",
    "def get_current_weather(location, unit=\"fahrenheit\"):\n",
    "    \"\"\"Get the current weather in a given location\"\"\"\n",
    "    weather_info = {\n",
    "        \"location\": location,\n",
    "        \"temperature\": 72,\n",
    "        \"unit\": unit,\n",
    "        \"forecast\": [\"sunny\", \"windy\"],\n",
    "    }\n",
    "    return weather_info\n",
    "\n",
    "pprint(register.registered_functions) # all active functions"
   ]
  },
  {
   "cell_type": "code",
   "execution_count": 26,
   "metadata": {},
   "outputs": [],
   "source": [
    "FUNCTIONS = [\n",
    "    {\n",
    "        \"name\": \"get_current_weather\",\n",
    "        \"description\": \"Get the current weather in a given location\",\n",
    "        \"parameters\": {\n",
    "            \"type\": \"object\",\n",
    "            \"properties\": {\n",
    "                \"location\": {\n",
    "                    \"type\": \"string\",\n",
    "                    \"description\": \"The city and state, e.g. San Francisco, CA\",\n",
    "                },\n",
    "                \"unit\": {\n",
    "                    \"type\": \"string\", \n",
    "                    \"enum\": [\"celsius\", \"fahrenheit\"] # not yet captured by generate_function_metadata\n",
    "                },\n",
    "            },\n",
    "            \"required\": [\"location\"],\n",
    "        },\n",
    "    }\n",
    "]\n",
    "\n",
    "# generate automatically FUNCTIONS metadata...\n",
    "# from function_metadata import generate_function_metadata "
   ]
  },
  {
   "cell_type": "markdown",
   "metadata": {},
   "source": [
    "## LLM"
   ]
  },
  {
   "cell_type": "markdown",
   "metadata": {},
   "source": [
    "#### Settings"
   ]
  },
  {
   "cell_type": "code",
   "execution_count": 27,
   "metadata": {},
   "outputs": [],
   "source": [
    "from enum import Enum\n",
    "from typing import Union\n",
    "\n",
    "class Role(Enum):\n",
    "    ASSISTANT = \"assistant\"\n",
    "    FUNCTION = \"function\"\n",
    "    SYSTEM = \"system\"\n",
    "    USER = \"user\"\n",
    "\n",
    "class Model_Version(Enum):\n",
    "    GPT3 = \"gpt-3.5-turbo-0613\"\n",
    "    GPT4 = \"gpt-4-0613\"\n",
    "\n",
    "CONTEXT = {\"role\": Role.SYSTEM.value, \"content\": \"Answer in one very short sentence.\"}\n",
    "\n",
    "MAX_ITER = 5\n",
    "\n",
    "MODEL_VERSION = Model_Version.GPT3.value"
   ]
  },
  {
   "cell_type": "code",
   "execution_count": 76,
   "metadata": {},
   "outputs": [],
   "source": [
    "def _add_message_to_context(role:Role, content:str, messages:list, function_call:dict=None) -> None:\n",
    "    \"\"\"Add a new message to messages. This extends the LLM context.\"\"\"\n",
    "    if role == Role.ASSISTANT:\n",
    "        d = {\"role\": Role.ASSISTANT.value, \"content\": content}\n",
    "        if function_call is not None: d |= {\"function_call\": function_call}\n",
    "        messages.append(d)\n",
    "\n",
    "    if role == Role.USER:\n",
    "        messages.append({\"role\": Role.USER.value, \"content\": content})\n",
    "    \n",
    "    if role == Role.FUNCTION:\n",
    "        messages.append({\"role\": Role.FUNCTION.value, \"name\": function_call[\"name\"], \"content\": content})\n",
    "        \n",
    "\n",
    "def send_message(role:Union[Role.USER, Role.FUNCTION], content:str, messages:list, function_call:dict=None) -> dict:\n",
    "    \"\"\"Send and receive a message to the LLM. Add request and response message to messages.\"\"\"\n",
    "    _add_message_to_context(role, content, messages, function_call)\n",
    "    \n",
    "    response = openai.ChatCompletion.create(\n",
    "        model=MODEL_VERSION,\n",
    "        messages=messages,\n",
    "        function_call=\"auto\",\n",
    "        functions=FUNCTIONS,\n",
    "    )\n",
    "    \n",
    "    response = response[\"choices\"][0][\"message\"]\n",
    "    response_message = response[\"content\"]\n",
    "    \n",
    "    is_function_call = response.get(\"function_call\")\n",
    "    if is_function_call:\n",
    "        _add_message_to_context(Role.ASSISTANT, response_message, messages, is_function_call.to_dict())\n",
    "    \n",
    "    return response\n",
    "\n",
    "\n",
    "def handle_function(function:dict) -> json:\n",
    "    \"\"\"Invoke function and return result\"\"\"\n",
    "    function_name, function_args = function[\"name\"], json.loads(function[\"arguments\"])\n",
    "    \n",
    "    if function_name in register.registered_functions:\n",
    "        function_to_call = register[function_name]\n",
    "        result = function_to_call(**function_args)\n",
    "        return result\n",
    "\n",
    "\n",
    "def run(user_question:str, verbose=False):    \n",
    "    \"\"\"Ask the LLM questions and let it run functions!\"\"\"\n",
    "    messages = [CONTEXT]\n",
    "    \n",
    "    # Step 1: send the conversation (context) and available functions to GPT\n",
    "    response = send_message(Role.USER, user_question, messages)\n",
    "    if verbose: print(response)\n",
    "    \n",
    "    current_iteration = 1\n",
    "    while (current_iteration <= MAX_ITER):\n",
    "        # Step 2: check if GPT wanted to call a function \n",
    "        function_call = response.get(\"function_call\")\n",
    "        if not function_call: break\n",
    "        if verbose: print(function_call)\n",
    "        \n",
    "        # Step 3: call the function\n",
    "        function_result = handle_function(function_call)\n",
    "        \n",
    "        if verbose: print(function_result)\n",
    "        \n",
    "        # Step 4: send the info on the function call and function response to GPT\n",
    "        response = send_message(Role.FUNCTION, function_result, messages, function_call)\n",
    "        \n",
    "        if verbose: print(response)\n",
    "        \n",
    "    if verbose: print(messages)\n",
    "    \n",
    "    return response[\"content\"]"
   ]
  },
  {
   "cell_type": "markdown",
   "metadata": {},
   "source": [
    "##### Run the LLM"
   ]
  },
  {
   "cell_type": "code",
   "execution_count": 73,
   "metadata": {},
   "outputs": [
    {
     "name": "stdout",
     "output_type": "stream",
     "text": [
      "<--- ANSWER --->\n",
      "'110'\n"
     ]
    }
   ],
   "source": [
    "response = run(\"What is 10+100?\", verbose=False)\n",
    "pprint(response)"
   ]
  },
  {
   "cell_type": "markdown",
   "metadata": {},
   "source": [
    "## Benchmark"
   ]
  },
  {
   "cell_type": "code",
   "execution_count": 58,
   "metadata": {},
   "outputs": [
    {
     "data": {
      "text/plain": [
       "{'name': 'get_current_weather',\n",
       " 'arguments': '{\\n  \"location\": \"San Francisco, CA\"\\n}'}"
      ]
     },
     "execution_count": 58,
     "metadata": {},
     "output_type": "execute_result"
    }
   ],
   "source": [
    "obj = outer[0]"
   ]
  }
 ],
 "metadata": {
  "kernelspec": {
   "display_name": ".venv",
   "language": "python",
   "name": "python3"
  },
  "language_info": {
   "codemirror_mode": {
    "name": "ipython",
    "version": 3
   },
   "file_extension": ".py",
   "mimetype": "text/x-python",
   "name": "python",
   "nbconvert_exporter": "python",
   "pygments_lexer": "ipython3",
   "version": "3.11.4"
  }
 },
 "nbformat": 4,
 "nbformat_minor": 2
}
